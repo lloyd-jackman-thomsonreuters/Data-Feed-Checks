{
 "cells": [
  {
   "cell_type": "code",
   "execution_count": 1,
   "metadata": {
    "collapsed": true
   },
   "outputs": [],
   "source": [
    "import pandas as pd\n",
    "import numpy as np\n",
    "from IPython.display import display\n",
    "from fuzzywuzzy import fuzz"
   ]
  },
  {
   "cell_type": "code",
   "execution_count": 2,
   "metadata": {},
   "outputs": [
    {
     "data": {
      "text/html": [
       "<div>\n",
       "<style>\n",
       "    .dataframe thead tr:only-child th {\n",
       "        text-align: right;\n",
       "    }\n",
       "\n",
       "    .dataframe thead th {\n",
       "        text-align: left;\n",
       "    }\n",
       "\n",
       "    .dataframe tbody tr th {\n",
       "        vertical-align: top;\n",
       "    }\n",
       "</style>\n",
       "<table border=\"1\" class=\"dataframe\">\n",
       "  <thead>\n",
       "    <tr style=\"text-align: right;\">\n",
       "      <th></th>\n",
       "      <th>LGCCode</th>\n",
       "      <th>LGCName</th>\n",
       "    </tr>\n",
       "  </thead>\n",
       "  <tbody>\n",
       "    <tr>\n",
       "      <th>0</th>\n",
       "      <td>057002</td>\n",
       "      <td>Bond AUD</td>\n",
       "    </tr>\n",
       "    <tr>\n",
       "      <th>1</th>\n",
       "      <td>057003</td>\n",
       "      <td>Bond CAD</td>\n",
       "    </tr>\n",
       "    <tr>\n",
       "      <th>2</th>\n",
       "      <td>057004</td>\n",
       "      <td>Bond CAD Short Term</td>\n",
       "    </tr>\n",
       "    <tr>\n",
       "      <th>3</th>\n",
       "      <td>057005</td>\n",
       "      <td>Bond CHF</td>\n",
       "    </tr>\n",
       "    <tr>\n",
       "      <th>4</th>\n",
       "      <td>057006</td>\n",
       "      <td>Bond CHF Short Term</td>\n",
       "    </tr>\n",
       "  </tbody>\n",
       "</table>\n",
       "</div>"
      ],
      "text/plain": [
       "  LGCCode              LGCName\n",
       "0  057002             Bond AUD\n",
       "1  057003             Bond CAD\n",
       "2  057004  Bond CAD Short Term\n",
       "3  057005             Bond CHF\n",
       "4  057006  Bond CHF Short Term"
      ]
     },
     "execution_count": 2,
     "metadata": {},
     "output_type": "execute_result"
    }
   ],
   "source": [
    "gfd1 = pd.read_csv(r\"...\\GFD-1\\LGC.txt\", sep=\"\\t\", encoding='cp1252', dtype=str)\n",
    "gfd1.head()"
   ]
  },
  {
   "cell_type": "code",
   "execution_count": 3,
   "metadata": {},
   "outputs": [
    {
     "data": {
      "text/html": [
       "<div>\n",
       "<style>\n",
       "    .dataframe thead tr:only-child th {\n",
       "        text-align: right;\n",
       "    }\n",
       "\n",
       "    .dataframe thead th {\n",
       "        text-align: left;\n",
       "    }\n",
       "\n",
       "    .dataframe tbody tr th {\n",
       "        vertical-align: top;\n",
       "    }\n",
       "</style>\n",
       "<table border=\"1\" class=\"dataframe\">\n",
       "  <thead>\n",
       "    <tr style=\"text-align: right;\">\n",
       "      <th></th>\n",
       "      <th>LGCCode</th>\n",
       "      <th>LGCName</th>\n",
       "    </tr>\n",
       "  </thead>\n",
       "  <tbody>\n",
       "    <tr>\n",
       "      <th>0</th>\n",
       "      <td>058100</td>\n",
       "      <td>Equity Sweden Sm&amp;Mid Cap</td>\n",
       "    </tr>\n",
       "    <tr>\n",
       "      <th>1</th>\n",
       "      <td>058097</td>\n",
       "      <td>Equity Argentina</td>\n",
       "    </tr>\n",
       "    <tr>\n",
       "      <th>2</th>\n",
       "      <td>058101</td>\n",
       "      <td>Equity Vietnam</td>\n",
       "    </tr>\n",
       "    <tr>\n",
       "      <th>3</th>\n",
       "      <td>058115</td>\n",
       "      <td>Equity Australia</td>\n",
       "    </tr>\n",
       "    <tr>\n",
       "      <th>4</th>\n",
       "      <td>059011</td>\n",
       "      <td>Hedge/Managed Futures/CTAs</td>\n",
       "    </tr>\n",
       "  </tbody>\n",
       "</table>\n",
       "</div>"
      ],
      "text/plain": [
       "  LGCCode                     LGCName\n",
       "0  058100    Equity Sweden Sm&Mid Cap\n",
       "1  058097            Equity Argentina\n",
       "2  058101              Equity Vietnam\n",
       "3  058115            Equity Australia\n",
       "4  059011  Hedge/Managed Futures/CTAs"
      ]
     },
     "execution_count": 3,
     "metadata": {},
     "output_type": "execute_result"
    }
   ],
   "source": [
    "cfg = pd.read_csv(r\"...\\CFG\\LGC.txt\", sep=\"\\t\", dtype=str)\n",
    "cfg_cols = cfg.columns\n",
    "cfg.head()"
   ]
  },
  {
   "cell_type": "code",
   "execution_count": 4,
   "metadata": {},
   "outputs": [
    {
     "data": {
      "text/plain": [
       "False"
      ]
     },
     "execution_count": 4,
     "metadata": {},
     "output_type": "execute_result"
    }
   ],
   "source": [
    "cfg.equals(gfd1)"
   ]
  },
  {
   "cell_type": "code",
   "execution_count": 5,
   "metadata": {},
   "outputs": [
    {
     "data": {
      "text/html": [
       "<div>\n",
       "<style>\n",
       "    .dataframe thead tr:only-child th {\n",
       "        text-align: right;\n",
       "    }\n",
       "\n",
       "    .dataframe thead th {\n",
       "        text-align: left;\n",
       "    }\n",
       "\n",
       "    .dataframe tbody tr th {\n",
       "        vertical-align: top;\n",
       "    }\n",
       "</style>\n",
       "<table border=\"1\" class=\"dataframe\">\n",
       "  <thead>\n",
       "    <tr style=\"text-align: right;\">\n",
       "      <th></th>\n",
       "      <th>LGCCode</th>\n",
       "      <th>LGCName_CFG</th>\n",
       "      <th>LGCName_GFD-1</th>\n",
       "    </tr>\n",
       "  </thead>\n",
       "  <tbody>\n",
       "    <tr>\n",
       "      <th>394</th>\n",
       "      <td>057006</td>\n",
       "      <td>Bond CHF Short Term</td>\n",
       "      <td>Bond CHF Short Term</td>\n",
       "    </tr>\n",
       "    <tr>\n",
       "      <th>151</th>\n",
       "      <td>061012</td>\n",
       "      <td>Money Market JPY</td>\n",
       "      <td>Money Market JPY</td>\n",
       "    </tr>\n",
       "    <tr>\n",
       "      <th>47</th>\n",
       "      <td>057046</td>\n",
       "      <td>Bond JPY</td>\n",
       "      <td>Bond JPY</td>\n",
       "    </tr>\n",
       "    <tr>\n",
       "      <th>88</th>\n",
       "      <td>061026</td>\n",
       "      <td>Money Market NZD</td>\n",
       "      <td>Money Market NZD</td>\n",
       "    </tr>\n",
       "    <tr>\n",
       "      <th>93</th>\n",
       "      <td>063017</td>\n",
       "      <td>Absolute Return GBP Low</td>\n",
       "      <td>Absolute Return GBP Low</td>\n",
       "    </tr>\n",
       "  </tbody>\n",
       "</table>\n",
       "</div>"
      ],
      "text/plain": [
       "    LGCCode              LGCName_CFG            LGCName_GFD-1\n",
       "394  057006      Bond CHF Short Term      Bond CHF Short Term\n",
       "151  061012         Money Market JPY         Money Market JPY\n",
       "47   057046                 Bond JPY                 Bond JPY\n",
       "88   061026         Money Market NZD         Money Market NZD\n",
       "93   063017  Absolute Return GBP Low  Absolute Return GBP Low"
      ]
     },
     "metadata": {},
     "output_type": "display_data"
    }
   ],
   "source": [
    "on=[\"LGCCode\"]\n",
    "df = cfg.merge(gfd1, how='outer', on=on, suffixes=(\"_CFG\", \"_GFD-1\"))\n",
    "df = df.fillna(\"-\")\n",
    "del cfg\n",
    "del gfd1\n",
    "display(df.sample(n=5))\n",
    "text_cols = []"
   ]
  },
  {
   "cell_type": "code",
   "execution_count": 6,
   "metadata": {},
   "outputs": [
    {
     "name": "stdout",
     "output_type": "stream",
     "text": [
      "LGCName\n",
      "\n"
     ]
    },
    {
     "data": {
      "text/html": [
       "<div>\n",
       "<style>\n",
       "    .dataframe thead tr:only-child th {\n",
       "        text-align: right;\n",
       "    }\n",
       "\n",
       "    .dataframe thead th {\n",
       "        text-align: left;\n",
       "    }\n",
       "\n",
       "    .dataframe tbody tr th {\n",
       "        vertical-align: top;\n",
       "    }\n",
       "</style>\n",
       "<table border=\"1\" class=\"dataframe\">\n",
       "  <thead>\n",
       "    <tr style=\"text-align: right;\">\n",
       "      <th></th>\n",
       "      <th>LGCCode</th>\n",
       "      <th>LGCName_CFG</th>\n",
       "      <th>LGCName_GFD-1</th>\n",
       "      <th>Check</th>\n",
       "    </tr>\n",
       "  </thead>\n",
       "  <tbody>\n",
       "    <tr>\n",
       "      <th>444</th>\n",
       "      <td>063035</td>\n",
       "      <td>Target Maturity MA USD 2050+</td>\n",
       "      <td>Target Maturity MA USD 2050+</td>\n",
       "      <td>Match</td>\n",
       "    </tr>\n",
       "    <tr>\n",
       "      <th>345</th>\n",
       "      <td>058011</td>\n",
       "      <td>Equity China</td>\n",
       "      <td>Equity China</td>\n",
       "      <td>Match</td>\n",
       "    </tr>\n",
       "    <tr>\n",
       "      <th>258</th>\n",
       "      <td>060104</td>\n",
       "      <td>Mixed Asset RUB Flexible</td>\n",
       "      <td>Mixed Asset RUB Flexible</td>\n",
       "      <td>Match</td>\n",
       "    </tr>\n",
       "    <tr>\n",
       "      <th>14</th>\n",
       "      <td>060038</td>\n",
       "      <td>Mixed Asset IDR Conservative</td>\n",
       "      <td>Mixed Asset IDR Conservative</td>\n",
       "      <td>Match</td>\n",
       "    </tr>\n",
       "    <tr>\n",
       "      <th>126</th>\n",
       "      <td>058089</td>\n",
       "      <td>Equity Israel</td>\n",
       "      <td>Equity Israel</td>\n",
       "      <td>Match</td>\n",
       "    </tr>\n",
       "  </tbody>\n",
       "</table>\n",
       "</div>"
      ],
      "text/plain": [
       "    LGCCode                   LGCName_CFG                 LGCName_GFD-1  Check\n",
       "444  063035  Target Maturity MA USD 2050+  Target Maturity MA USD 2050+  Match\n",
       "345  058011                  Equity China                  Equity China  Match\n",
       "258  060104      Mixed Asset RUB Flexible      Mixed Asset RUB Flexible  Match\n",
       "14   060038  Mixed Asset IDR Conservative  Mixed Asset IDR Conservative  Match\n",
       "126  058089                 Equity Israel                 Equity Israel  Match"
      ]
     },
     "metadata": {},
     "output_type": "display_data"
    }
   ],
   "source": [
    "writer = pd.ExcelWriter(\"LGC Checks.xlsx\", engine='xlsxwriter')\n",
    "df_dict = {}\n",
    "for col in cfg_cols:\n",
    "    if col in on: continue\n",
    "    print(col+\"\\n\")\n",
    "    check=[]\n",
    "    ratio = []\n",
    "    columns = []\n",
    "    columns = on + [col+\"_CFG\", col+\"_GFD-1\"]\n",
    "    #print(columns)\n",
    "    check_df = df.loc[:, columns]\n",
    "    for n in range(df.shape[0]):\n",
    "        if col in text_cols:\n",
    "            ratio.append(fuzz.ratio(str(check_df.iloc[n, -2]),str(check_df.iloc[n, -1])))\n",
    "        if str(check_df.iloc[n, -2]) == str(check_df.iloc[n, -1]):\n",
    "            check.append(\"Match\")\n",
    "        elif str(check_df.iloc[n, -2]) == \"-\":\n",
    "            check.append(\"Data not in CFG\")\n",
    "        elif str(check_df.iloc[n, -1]) == \"-\":\n",
    "            check.append(\"Data not in GFD-1\")\n",
    "        else:\n",
    "            check.append(\"Difference\")\n",
    "    check_df[\"Check\"] = np.array(check)\n",
    "    if col in text_cols:\n",
    "        check_df[\"Ratio\"] = np.array(ratio)\n",
    "    check_df.drop_duplicates(inplace=True)\n",
    "    check_df.to_excel(writer,'%s' % col, index=False)\n",
    "    check_df[check_df.Check != \"Match\"].to_excel(writer,'%s Diff' % col, index=False)\n",
    "    display(check_df.sample(n=5))\n",
    "writer.save()"
   ]
  },
  {
   "cell_type": "code",
   "execution_count": null,
   "metadata": {
    "collapsed": true
   },
   "outputs": [],
   "source": []
  }
 ],
 "metadata": {
  "kernelspec": {
   "display_name": "Python 3",
   "language": "python",
   "name": "python3"
  },
  "language_info": {
   "codemirror_mode": {
    "name": "ipython",
    "version": 3
   },
   "file_extension": ".py",
   "mimetype": "text/x-python",
   "name": "python",
   "nbconvert_exporter": "python",
   "pygments_lexer": "ipython3",
   "version": "3.6.1"
  }
 },
 "nbformat": 4,
 "nbformat_minor": 2
}
