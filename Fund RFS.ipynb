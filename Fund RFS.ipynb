{
 "cells": [
  {
   "cell_type": "code",
   "execution_count": 1,
   "metadata": {
    "collapsed": true
   },
   "outputs": [],
   "source": [
    "import pandas as pd\n",
    "import numpy as np\n",
    "from IPython.display import display"
   ]
  },
  {
   "cell_type": "code",
   "execution_count": 2,
   "metadata": {},
   "outputs": [
    {
     "data": {
      "text/html": [
       "<div>\n",
       "<style>\n",
       "    .dataframe thead tr:only-child th {\n",
       "        text-align: right;\n",
       "    }\n",
       "\n",
       "    .dataframe thead th {\n",
       "        text-align: left;\n",
       "    }\n",
       "\n",
       "    .dataframe tbody tr th {\n",
       "        vertical-align: top;\n",
       "    }\n",
       "</style>\n",
       "<table border=\"1\" class=\"dataframe\">\n",
       "  <thead>\n",
       "    <tr style=\"text-align: right;\">\n",
       "      <th></th>\n",
       "      <th>LipperID</th>\n",
       "      <th>RFS_Country</th>\n",
       "      <th>GFD-1</th>\n",
       "    </tr>\n",
       "  </thead>\n",
       "  <tbody>\n",
       "    <tr>\n",
       "      <th>0</th>\n",
       "      <td>65006437</td>\n",
       "      <td>AUT</td>\n",
       "      <td>Yes</td>\n",
       "    </tr>\n",
       "    <tr>\n",
       "      <th>1</th>\n",
       "      <td>65006437</td>\n",
       "      <td>CZE</td>\n",
       "      <td>Yes</td>\n",
       "    </tr>\n",
       "    <tr>\n",
       "      <th>2</th>\n",
       "      <td>65006437</td>\n",
       "      <td>DEU</td>\n",
       "      <td>Yes</td>\n",
       "    </tr>\n",
       "    <tr>\n",
       "      <th>3</th>\n",
       "      <td>65006438</td>\n",
       "      <td>AUT</td>\n",
       "      <td>Yes</td>\n",
       "    </tr>\n",
       "    <tr>\n",
       "      <th>4</th>\n",
       "      <td>65006438</td>\n",
       "      <td>CZE</td>\n",
       "      <td>Yes</td>\n",
       "    </tr>\n",
       "  </tbody>\n",
       "</table>\n",
       "</div>"
      ],
      "text/plain": [
       "   LipperID RFS_Country GFD-1\n",
       "0  65006437         AUT   Yes\n",
       "1  65006437         CZE   Yes\n",
       "2  65006437         DEU   Yes\n",
       "3  65006438         AUT   Yes\n",
       "4  65006438         CZE   Yes"
      ]
     },
     "execution_count": 2,
     "metadata": {},
     "output_type": "execute_result"
    }
   ],
   "source": [
    "gfd1 = pd.read_csv(\"...\\\\GFD-1\\\\FundRFS.txt\", sep=\"\\t\", encoding='cp1252', dtype=str)\n",
    "gfd1[\"GFD-1\"] = \"Yes\"\n",
    "gfd1.head()"
   ]
  },
  {
   "cell_type": "code",
   "execution_count": 3,
   "metadata": {},
   "outputs": [
    {
     "data": {
      "text/html": [
       "<div>\n",
       "<style>\n",
       "    .dataframe thead tr:only-child th {\n",
       "        text-align: right;\n",
       "    }\n",
       "\n",
       "    .dataframe thead th {\n",
       "        text-align: left;\n",
       "    }\n",
       "\n",
       "    .dataframe tbody tr th {\n",
       "        vertical-align: top;\n",
       "    }\n",
       "</style>\n",
       "<table border=\"1\" class=\"dataframe\">\n",
       "  <thead>\n",
       "    <tr style=\"text-align: right;\">\n",
       "      <th></th>\n",
       "      <th>LipperID</th>\n",
       "      <th>RFS_Country</th>\n",
       "      <th>CFG</th>\n",
       "    </tr>\n",
       "  </thead>\n",
       "  <tbody>\n",
       "    <tr>\n",
       "      <th>0</th>\n",
       "      <td>65137450</td>\n",
       "      <td>NLD</td>\n",
       "      <td>Yes</td>\n",
       "    </tr>\n",
       "    <tr>\n",
       "      <th>1</th>\n",
       "      <td>65137453</td>\n",
       "      <td>CUW</td>\n",
       "      <td>Yes</td>\n",
       "    </tr>\n",
       "    <tr>\n",
       "      <th>2</th>\n",
       "      <td>65137794</td>\n",
       "      <td>LUX</td>\n",
       "      <td>Yes</td>\n",
       "    </tr>\n",
       "    <tr>\n",
       "      <th>3</th>\n",
       "      <td>68043752</td>\n",
       "      <td>FRA</td>\n",
       "      <td>Yes</td>\n",
       "    </tr>\n",
       "    <tr>\n",
       "      <th>4</th>\n",
       "      <td>68043752</td>\n",
       "      <td>GRC</td>\n",
       "      <td>Yes</td>\n",
       "    </tr>\n",
       "  </tbody>\n",
       "</table>\n",
       "</div>"
      ],
      "text/plain": [
       "   LipperID RFS_Country  CFG\n",
       "0  65137450         NLD  Yes\n",
       "1  65137453         CUW  Yes\n",
       "2  65137794         LUX  Yes\n",
       "3  68043752         FRA  Yes\n",
       "4  68043752         GRC  Yes"
      ]
     },
     "execution_count": 3,
     "metadata": {},
     "output_type": "execute_result"
    }
   ],
   "source": [
    "cfg = pd.read_csv(\"...\\\\CFG\\\\FundRFS.txt\", sep=\"\\t\", dtype=str)\n",
    "cfg[\"CFG\"] = \"Yes\"\n",
    "cfg_cols = cfg.columns\n",
    "cfg.head()"
   ]
  },
  {
   "cell_type": "code",
   "execution_count": 4,
   "metadata": {
    "collapsed": true
   },
   "outputs": [],
   "source": [
    "df = cfg.merge(gfd1, how='outer', on=[\"LipperID\", \"RFS_Country\"], suffixes=(\"_CFG\", \"_GFD-1\"))\n",
    "df[\"GFD-1\"].fillna(\"No\", inplace=True)\n",
    "df[\"CFG\"].fillna(\"No\", inplace=True)"
   ]
  },
  {
   "cell_type": "code",
   "execution_count": 5,
   "metadata": {},
   "outputs": [
    {
     "name": "stdout",
     "output_type": "stream",
     "text": [
      "BRN is missing from GFD-1\n",
      "BWA is missing from GFD-1\n",
      "COL is missing from GFD-1\n",
      "CUW is missing from GFD-1\n",
      "DOM is missing from GFD-1\n",
      "FRO is missing from GFD-1\n",
      "GRL is missing from GFD-1\n",
      "GUY is missing from GFD-1\n",
      "PRK is missing from GFD-1\n",
      "PRY is missing from GFD-1\n",
      "ROU is missing from GFD-1\n",
      "SMR is missing from GFD-1\n",
      "SWZ is missing from GFD-1\n",
      "nan is missing from GFD-1\n"
     ]
    }
   ],
   "source": [
    "countries_missing_in_gfd1 = []\n",
    "grfs = gfd1[\"RFS_Country\"].unique()\n",
    "crfs = cfg[\"RFS_Country\"].unique()\n",
    "for country in sorted(crfs.astype(str)):\n",
    "    if country in grfs:\n",
    "        #print (country + \" is in both systems\")\n",
    "        pass\n",
    "    else:\n",
    "        print (country + \" is missing from GFD-1\")\n",
    "        countries_missing_in_gfd1.append(country)"
   ]
  },
  {
   "cell_type": "code",
   "execution_count": null,
   "metadata": {},
   "outputs": [
    {
     "data": {
      "text/html": [
       "<div>\n",
       "<style>\n",
       "    .dataframe thead tr:only-child th {\n",
       "        text-align: right;\n",
       "    }\n",
       "\n",
       "    .dataframe thead th {\n",
       "        text-align: left;\n",
       "    }\n",
       "\n",
       "    .dataframe tbody tr th {\n",
       "        vertical-align: top;\n",
       "    }\n",
       "</style>\n",
       "<table border=\"1\" class=\"dataframe\">\n",
       "  <thead>\n",
       "    <tr style=\"text-align: right;\">\n",
       "      <th></th>\n",
       "      <th>CFG</th>\n",
       "    </tr>\n",
       "    <tr>\n",
       "      <th>RFS_Country</th>\n",
       "      <th></th>\n",
       "    </tr>\n",
       "  </thead>\n",
       "  <tbody>\n",
       "    <tr>\n",
       "      <th>BRN</th>\n",
       "      <td>1018</td>\n",
       "    </tr>\n",
       "    <tr>\n",
       "      <th>BWA</th>\n",
       "      <td>187</td>\n",
       "    </tr>\n",
       "    <tr>\n",
       "      <th>COL</th>\n",
       "      <td>55</td>\n",
       "    </tr>\n",
       "    <tr>\n",
       "      <th>CUW</th>\n",
       "      <td>1041</td>\n",
       "    </tr>\n",
       "    <tr>\n",
       "      <th>DOM</th>\n",
       "      <td>2</td>\n",
       "    </tr>\n",
       "    <tr>\n",
       "      <th>FRO</th>\n",
       "      <td>3</td>\n",
       "    </tr>\n",
       "    <tr>\n",
       "      <th>GRL</th>\n",
       "      <td>8</td>\n",
       "    </tr>\n",
       "    <tr>\n",
       "      <th>GUY</th>\n",
       "      <td>1</td>\n",
       "    </tr>\n",
       "    <tr>\n",
       "      <th>PRK</th>\n",
       "      <td>5</td>\n",
       "    </tr>\n",
       "    <tr>\n",
       "      <th>PRY</th>\n",
       "      <td>1</td>\n",
       "    </tr>\n",
       "    <tr>\n",
       "      <th>ROU</th>\n",
       "      <td>395</td>\n",
       "    </tr>\n",
       "    <tr>\n",
       "      <th>SMR</th>\n",
       "      <td>20</td>\n",
       "    </tr>\n",
       "    <tr>\n",
       "      <th>SWZ</th>\n",
       "      <td>2</td>\n",
       "    </tr>\n",
       "  </tbody>\n",
       "</table>\n",
       "</div>"
      ],
      "text/plain": [
       "              CFG\n",
       "RFS_Country      \n",
       "BRN          1018\n",
       "BWA           187\n",
       "COL            55\n",
       "CUW          1041\n",
       "DOM             2\n",
       "FRO             3\n",
       "GRL             8\n",
       "GUY             1\n",
       "PRK             5\n",
       "PRY             1\n",
       "ROU           395\n",
       "SMR            20\n",
       "SWZ             2"
      ]
     },
     "execution_count": 6,
     "metadata": {},
     "output_type": "execute_result"
    }
   ],
   "source": [
    "df[(df[\"RFS_Country\"].isin(countries_missing_in_gfd1))].groupby(by=\"RFS_Country\").count()[[\"CFG\"]]"
   ]
  },
  {
   "cell_type": "code",
   "execution_count": null,
   "metadata": {
    "collapsed": true
   },
   "outputs": [],
   "source": [
    "writer = pd.ExcelWriter(\"Fund RFS Checks.xlsx\", engine='xlsxwriter')\n",
    "df.to_excel(writer,\"Fund RFS\", index=False)\n",
    "df[(df[\"CFG\"] == \"No\") | (df[\"GFD-1\"] == \"No\")].to_excel(writer,\"Fund RFS Diffs\", index=False)\n",
    "df[(df[\"GFD-1\"] == \"No\")].groupby(by=\"RFS_Country\").count()[[\"GFD-1\"]].to_excel(writer,\"Missing from GFD-1 Pivot\")\n",
    "df[(df[\"RFS_Country\"].isin(countries_missing_in_gfd1))].groupby(by=\"RFS_Country\").count()[[\"CFG\"]].to_excel(writer,\"Countries missing from GFD-1\")\n",
    "writer.save()"
   ]
  }
 ],
 "metadata": {
  "kernelspec": {
   "display_name": "Python 3",
   "language": "python",
   "name": "python3"
  },
  "language_info": {
   "codemirror_mode": {
    "name": "ipython",
    "version": 3
   },
   "file_extension": ".py",
   "mimetype": "text/x-python",
   "name": "python",
   "nbconvert_exporter": "python",
   "pygments_lexer": "ipython3",
   "version": "3.6.1"
  }
 },
 "nbformat": 4,
 "nbformat_minor": 2
}
